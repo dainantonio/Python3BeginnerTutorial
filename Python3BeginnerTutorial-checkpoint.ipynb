{
 "cells": [
  {
   "cell_type": "markdown",
   "metadata": {},
   "source": [
    "### Python Programming "
   ]
  },
  {
   "cell_type": "markdown",
   "metadata": {},
   "source": [
    "* **Programming** is giving the computer a set of instructions. Python is a programming language in which we can write instructions.\n",
    "* Python has **syntax rules**, and each line of instruction has to comply with these rules. \n",
    "* The result of executing the code is called **output**."
   ]
  },
  {
   "cell_type": "markdown",
   "metadata": {},
   "source": [
    "### Arithmetic Operations"
   ]
  },
  {
   "cell_type": "markdown",
   "metadata": {},
   "source": [
    "Python supports different types of arithmetic operations that can be performed on literal numbers, variables, or some combination. The primary arithmetic operators are:\n",
    "* `+` for addition\n",
    "* `-` for subtraction\n",
    "* `*` for multiplication\n",
    "* `/` for division\n",
    "* `%` for modulus (returns the remainder)\n",
    "* `**` for exponentiation"
   ]
  },
  {
   "cell_type": "markdown",
   "metadata": {},
   "source": [
    "# Arithmetic operations\n",
    " \n",
    "result = 10 + 30\n",
    "result = 40 - 10\n",
    "result = 50 * 5\n",
    "result = 16 / 4\n",
    "result = 25 % 2\n",
    "result = 5 ** 3"
   ]
  },
  {
   "cell_type": "markdown",
   "metadata": {},
   "source": [
    "Using the `print()` function/command to display the result for each of those operations."
   ]
  },
  {
   "cell_type": "code",
   "execution_count": 7,
   "metadata": {},
   "outputs": [
    {
     "name": "stdout",
     "output_type": "stream",
     "text": [
      "40\n",
      "30\n",
      "250\n",
      "4.0\n",
      "1\n",
      "125\n"
     ]
    }
   ],
   "source": [
    "print(10 + 30)\n",
    "print(40 - 10)\n",
    "print(50 * 5)\n",
    "print(16 / 4)\n",
    "print(25 % 2)\n",
    "print(5 ** 3)\n",
    "\n"
   ]
  },
  {
   "cell_type": "markdown",
   "metadata": {},
   "source": [
    "More on the print() Function...\n",
    "\n",
    "It takes one or more arguments and will output each of the arguments to the console separated by a space. If no arguments are provided, the print() function will output a blank line."
   ]
  },
  {
   "cell_type": "code",
   "execution_count": 17,
   "metadata": {},
   "outputs": [
    {
     "name": "stdout",
     "output_type": "stream",
     "text": [
      "Hello World!\n",
      "100\n",
      "3.14159\n"
     ]
    }
   ],
   "source": [
    "print(\"Hello World!\")\n",
    " \n",
    "print(100)\n",
    " \n",
    "pi = 3.14159\n",
    "print(pi)"
   ]
  },
  {
   "cell_type": "markdown",
   "metadata": {},
   "source": [
    "### Syntax Error\n",
    "\n",
    "We get a syntax error in our output when we have some part of the code being incorrect.\n",
    "\n",
    "This can include:\n",
    "* misspelled keywords\n",
    "* missing or too many brackets or parenthesis\n",
    "* incorrect operators\n",
    "* missing or too many quotation marks, or other conditions.\n",
    "\n",
    "Using one of the previous examples to display a syntax error.\n",
    "For example, print(10 + 7) print(40 - 10) print(50 * 5) doesn't comply with Python's syntax rules and raises a syntax error.\n",
    "Each statement must be on separate lines. Each print statement is a `line of code`."
   ]
  },
  {
   "cell_type": "code",
   "execution_count": 9,
   "metadata": {},
   "outputs": [
    {
     "ename": "SyntaxError",
     "evalue": "invalid syntax (<ipython-input-9-b4074e9ac9bb>, line 1)",
     "output_type": "error",
     "traceback": [
      "\u001b[1;36m  File \u001b[1;32m\"<ipython-input-9-b4074e9ac9bb>\"\u001b[1;36m, line \u001b[1;32m1\u001b[0m\n\u001b[1;33m    print(10 + 7) print(40 - 10) print(50 * 5) print(16 / 4) print(25 % 2) print(5 ** 3)\u001b[0m\n\u001b[1;37m                  ^\u001b[0m\n\u001b[1;31mSyntaxError\u001b[0m\u001b[1;31m:\u001b[0m invalid syntax\n"
     ]
    }
   ],
   "source": [
    "print(10 + 7) print(40 - 10) print(50 * 5) print(16 / 4) print(25 % 2) print(5 ** 3) "
   ]
  },
  {
   "cell_type": "code",
   "execution_count": 20,
   "metadata": {},
   "outputs": [
    {
     "ename": "SyntaxError",
     "evalue": "cannot assign to operator (<ipython-input-20-f571236eee33>, line 2)",
     "output_type": "error",
     "traceback": [
      "\u001b[1;36m  File \u001b[1;32m\"<ipython-input-20-f571236eee33>\"\u001b[1;36m, line \u001b[1;32m2\u001b[0m\n\u001b[1;33m    age = 7 + 5 = 4\u001b[0m\n\u001b[1;37m          ^\u001b[0m\n\u001b[1;31mSyntaxError\u001b[0m\u001b[1;31m:\u001b[0m cannot assign to operator\n"
     ]
    }
   ],
   "source": [
    "# adding different values also using different operators\n",
    "age = 7 + 5 = 4 \n",
    " "
   ]
  },
  {
   "cell_type": "markdown",
   "metadata": {},
   "source": [
    "### NameError\n",
    "A NameError is reported by the Python interpreter when it detects a variable that is unknown. This can occur when a variable is used before it has been assigned a value or if a variable name is spelled differently than the point at which it was defined. The Python interpreter will display the line of code where the NameError was detected and indicate which name it found that was not defined."
   ]
  },
  {
   "cell_type": "code",
   "execution_count": 21,
   "metadata": {},
   "outputs": [
    {
     "ename": "SyntaxError",
     "evalue": "invalid syntax (<ipython-input-21-2bd059847cd7>, line 3)",
     "output_type": "error",
     "traceback": [
      "\u001b[1;36m  File \u001b[1;32m\"<ipython-input-21-2bd059847cd7>\"\u001b[1;36m, line \u001b[1;32m3\u001b[0m\n\u001b[1;33m    NameError: name 'misspelled_variable_name' is not defined\u001b[0m\n\u001b[1;37m                    ^\u001b[0m\n\u001b[1;31mSyntaxError\u001b[0m\u001b[1;31m:\u001b[0m invalid syntax\n"
     ]
    }
   ],
   "source": [
    "misspelled_variable_name\n",
    "\n",
    "# variable not defined so we get a NameError \n",
    "NameError: name 'misspelled_variable_name' is not defined"
   ]
  },
  {
   "cell_type": "markdown",
   "metadata": {},
   "source": [
    "### Comments\n",
    "\n",
    "Comments provide additional information to the reader about what the code suppose to do.\n",
    "* When we add code comments, lines of code are ignored.\n",
    "* It also can be used to stop a line of code from being executed.\n",
    "* The `#` character starts a **comment** and continue to the end of the line."
   ]
  },
  {
   "cell_type": "code",
   "execution_count": 6,
   "metadata": {
    "scrolled": true
   },
   "outputs": [
    {
     "name": "stdout",
     "output_type": "stream",
     "text": [
      "Hello World!\n"
     ]
    }
   ],
   "source": [
    "# First comment\n",
    "print (\"Hello World!\") # second comment\n",
    "\n",
    "# print (\"My Name is Dain\")\n",
    "# The second line of code is commented and will be ignored"
   ]
  },
  {
   "cell_type": "markdown",
   "metadata": {},
   "source": [
    "The output prints the first line of code and ignores the second line of code."
   ]
  },
  {
   "cell_type": "markdown",
   "metadata": {},
   "source": [
    "### Blank lines or whitespace\n",
    "* The computer ignore blank lines. Code is executed from the first line downwards."
   ]
  },
  {
   "cell_type": "code",
   "execution_count": 10,
   "metadata": {},
   "outputs": [
    {
     "name": "stdout",
     "output_type": "stream",
     "text": [
      "40\n",
      "30\n",
      "250\n",
      "4.0\n",
      "1\n",
      "125\n"
     ]
    }
   ],
   "source": [
    "# example displaying code execution with blank lines\n",
    "print(10 + 30)\n",
    "print(40 - 10)\n",
    "\n",
    "print(50 * 5)\n",
    "print(16 / 4)\n",
    "\n",
    "print(25 % 2)\n",
    "print(5 ** 3)\n"
   ]
  },
  {
   "cell_type": "markdown",
   "metadata": {},
   "source": [
    "### Plus-Equals Operator +=\n",
    "The plus-equals operator `+=` allows another value to be added to an existing variable and then assign the new value back to the same variable. \n",
    "In the case where the variable and the value are strings, this operator performs string concatenation instead of addition.\n",
    "\n",
    "The operation is performed in-place, meaning that any other variable which points to the variable being updated will also be updated."
   ]
  },
  {
   "cell_type": "code",
   "execution_count": 16,
   "metadata": {},
   "outputs": [
    {
     "name": "stdout",
     "output_type": "stream",
     "text": [
      "25\n",
      "Part 1 of message Part 2 of message\n"
     ]
    }
   ],
   "source": [
    "# Plus-Equal Operator\n",
    " \n",
    "counter = 5\n",
    "counter += 10\n",
    " \n",
    "# This is equivalent to \n",
    " \n",
    "counter = 5\n",
    "counter = counter + 10\n",
    "\n",
    "print(counter + 10)\n",
    " \n",
    "# The operator will also perform string concatenation\n",
    " \n",
    "message = \"Part 1 of message \"\n",
    "message += \"Part 2 of message\"\n",
    "print(message)"
   ]
  },
  {
   "cell_type": "markdown",
   "metadata": {},
   "source": [
    "### Variables\n",
    "A variable is used to store data that will be used by the program. This data can be a number, a string, a Boolean, a list or some other data type. Every variable has a name which can consist of letters, numbers, and the underscore character _.\n",
    "\n",
    "The equal sign `=` is used to assign a value to a variable. After the initial assignment is made, the value of a variable can be updated to new values as needed."
   ]
  },
  {
   "cell_type": "code",
   "execution_count": null,
   "metadata": {},
   "outputs": [],
   "source": [
    "# These are all valid variable names and assignment\n",
    " \n",
    "user_name = \"@sonnynomnom\"\n",
    "user_id = 100\n",
    "verified = False\n",
    " \n",
    "# A variable's value can be changed after assignment\n",
    " \n",
    "points = 100\n",
    "points = 120"
   ]
  },
  {
   "cell_type": "code",
   "execution_count": 26,
   "metadata": {},
   "outputs": [
    {
     "name": "stdout",
     "output_type": "stream",
     "text": [
      "24\n"
     ]
    }
   ],
   "source": [
    "# example saving values\n",
    "# perform arithmetic operation first\n",
    "# value_1 = 20\n",
    "value_1 = (8 + 4) * 2\n",
    "\n",
    "# value_1 is saved when we print the statement\n",
    "print(value_1)"
   ]
  },
  {
   "cell_type": "markdown",
   "metadata": {},
   "source": [
    "That value_1 of 24 is stored in the computer memory to a specific location with the unique identifier `value_1`. We can access this value in other lines of code using that specific name.\n",
    "\n",
    "Let's try it!"
   ]
  },
  {
   "cell_type": "code",
   "execution_count": 29,
   "metadata": {
    "scrolled": true
   },
   "outputs": [
    {
     "name": "stdout",
     "output_type": "stream",
     "text": [
      "24\n",
      "44\n"
     ]
    }
   ],
   "source": [
    "# we know that value_1 is 20\n",
    "value_1 =24\n",
    "\n",
    "# we can use value_1 = 24 in a different line of code\n",
    "print(value_1)\n",
    "print(value_1 + 20)"
   ]
  },
  {
   "cell_type": "markdown",
   "metadata": {},
   "source": [
    "### Naming Rules\n",
    "\n",
    "There are syntax rules for naming variables\n",
    "* We must use only letters, numbers, or underscores (we can't use apostrophes, hyphens, whitespace characters, etc.).\n",
    "* Variable names cannot start with a number.\n",
    "Note that variable names are case sensitive, which means that a variable named `result` is different than a variable named `Result`.\n",
    "\n",
    "* Avoid using names that are too general or too wordy. Strike a good balance between the two.\n",
    "* Bad: data_structure, my_list, info_map, dictionary_for_the_purpose_of_storing_data_representing_word_definitions\n",
    "* Good: user_profile, menu_options, word_definitions\n",
    "* Don’t be a jackass and name things “O”, “l”, or “I”\n",
    "* When using CamelCase names, capitalize all letters of an abbreviation (e.g. HTTPServer)\n",
    "\n"
   ]
  },
  {
   "cell_type": "code",
   "execution_count": null,
   "metadata": {},
   "outputs": [],
   "source": []
  },
  {
   "cell_type": "code",
   "execution_count": null,
   "metadata": {},
   "outputs": [],
   "source": []
  },
  {
   "cell_type": "code",
   "execution_count": null,
   "metadata": {},
   "outputs": [],
   "source": []
  }
 ],
 "metadata": {
  "kernelspec": {
   "display_name": "Python 3",
   "language": "python",
   "name": "python3"
  },
  "language_info": {
   "codemirror_mode": {
    "name": "ipython",
    "version": 3
   },
   "file_extension": ".py",
   "mimetype": "text/x-python",
   "name": "python",
   "nbconvert_exporter": "python",
   "pygments_lexer": "ipython3",
   "version": "3.8.3"
  }
 },
 "nbformat": 4,
 "nbformat_minor": 4
}
