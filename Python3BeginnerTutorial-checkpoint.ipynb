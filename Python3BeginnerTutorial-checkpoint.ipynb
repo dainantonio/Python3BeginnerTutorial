{
 "cells": [
  {
   "cell_type": "markdown",
   "metadata": {},
   "source": [
    "### Python Programming "
   ]
  },
  {
   "cell_type": "markdown",
   "metadata": {},
   "source": [
    "* **Programming** is giving the computer a set of instructions. Python is a programming language in which we can write instructions.\n",
    "* Python has **syntax rules**, and each line of instruction has to comply with these rules. \n",
    "* The result of executing the code is called **output**."
   ]
  },
  {
   "cell_type": "markdown",
   "metadata": {},
   "source": [
    "### Arithmetic Operations"
   ]
  },
  {
   "cell_type": "markdown",
   "metadata": {},
   "source": [
    "Python supports different types of arithmetic operations that can be performed on literal numbers, variables, or some combination. The primary arithmetic operators are:\n",
    "* `+` for addition\n",
    "* `-` for subtraction\n",
    "* `*` for multiplication\n",
    "* `/` for division\n",
    "* `%` for modulus (returns the remainder)\n",
    "* `**` for exponentiation"
   ]
  },
  {
   "cell_type": "markdown",
   "metadata": {},
   "source": [
    "# Arithmetic operations\n",
    " \n",
    "result = 10 + 30\n",
    "result = 40 - 10\n",
    "result = 50 * 5\n",
    "result = 16 / 4\n",
    "result = 25 % 2\n",
    "result = 5 ** 3"
   ]
  },
  {
   "cell_type": "markdown",
   "metadata": {},
   "source": [
    "Using the `print()` command display the result for each of those operations."
   ]
  },
  {
   "cell_type": "code",
   "execution_count": 7,
   "metadata": {},
   "outputs": [
    {
     "name": "stdout",
     "output_type": "stream",
     "text": [
      "40\n",
      "30\n",
      "250\n",
      "4.0\n",
      "1\n",
      "125\n"
     ]
    }
   ],
   "source": [
    "print(10 + 30)\n",
    "print(40 - 10)\n",
    "print(50 * 5)\n",
    "print(16 / 4)\n",
    "print(25 % 2)\n",
    "print(5 ** 3)\n",
    "\n"
   ]
  },
  {
   "cell_type": "markdown",
   "metadata": {},
   "source": [
    "### Syntax Error\n",
    "\n",
    "Using one of the previous examples to display a syntax error.\n",
    "For example, print(10 + 7) print(40 - 10) print(50 * 5) doesn't comply with Python's syntax rules and raises a syntax error.\n",
    "Each statement must be on separate lines. Each print statement is a `line of code`."
   ]
  },
  {
   "cell_type": "code",
   "execution_count": 9,
   "metadata": {},
   "outputs": [
    {
     "ename": "SyntaxError",
     "evalue": "invalid syntax (<ipython-input-9-b4074e9ac9bb>, line 1)",
     "output_type": "error",
     "traceback": [
      "\u001b[1;36m  File \u001b[1;32m\"<ipython-input-9-b4074e9ac9bb>\"\u001b[1;36m, line \u001b[1;32m1\u001b[0m\n\u001b[1;33m    print(10 + 7) print(40 - 10) print(50 * 5) print(16 / 4) print(25 % 2) print(5 ** 3)\u001b[0m\n\u001b[1;37m                  ^\u001b[0m\n\u001b[1;31mSyntaxError\u001b[0m\u001b[1;31m:\u001b[0m invalid syntax\n"
     ]
    }
   ],
   "source": [
    "print(10 + 7) print(40 - 10) print(50 * 5) print(16 / 4) print(25 % 2) print(5 ** 3) "
   ]
  },
  {
   "cell_type": "markdown",
   "metadata": {},
   "source": [
    "### Comments\n",
    "\n",
    "Comments provide additional information to the reader about what the code suppose to do.\n",
    "* When we add code comments, lines of code are ignored.\n",
    "* It also can be used to stop a line of code from being executed.\n",
    "* The `#` character starts a **comment** and continue to the end of the line."
   ]
  },
  {
   "cell_type": "code",
   "execution_count": 6,
   "metadata": {
    "scrolled": true
   },
   "outputs": [
    {
     "name": "stdout",
     "output_type": "stream",
     "text": [
      "Hello World!\n"
     ]
    }
   ],
   "source": [
    "# First comment\n",
    "print (\"Hello World!\") # second comment\n",
    "\n",
    "# print (\"My Name is Dain\")\n",
    "# The second line of code is commented and will be ignored"
   ]
  },
  {
   "cell_type": "markdown",
   "metadata": {},
   "source": [
    "The output prints the first line of code and ignores the second line of code."
   ]
  },
  {
   "cell_type": "markdown",
   "metadata": {},
   "source": [
    "### Blank lines or whitespace\n",
    "* The computer ignore blank lines. Code is executed from the first line downwards."
   ]
  },
  {
   "cell_type": "code",
   "execution_count": 10,
   "metadata": {},
   "outputs": [
    {
     "name": "stdout",
     "output_type": "stream",
     "text": [
      "40\n",
      "30\n",
      "250\n",
      "4.0\n",
      "1\n",
      "125\n"
     ]
    }
   ],
   "source": [
    "#example displaying code execution with blank lines\n",
    "print(10 + 30)\n",
    "print(40 - 10)\n",
    "\n",
    "print(50 * 5)\n",
    "print(16 / 4)\n",
    "\n",
    "print(25 % 2)\n",
    "print(5 ** 3)\n"
   ]
  }
 ],
 "metadata": {
  "kernelspec": {
   "display_name": "Python 3",
   "language": "python",
   "name": "python3"
  },
  "language_info": {
   "codemirror_mode": {
    "name": "ipython",
    "version": 3
   },
   "file_extension": ".py",
   "mimetype": "text/x-python",
   "name": "python",
   "nbconvert_exporter": "python",
   "pygments_lexer": "ipython3",
   "version": "3.8.3"
  }
 },
 "nbformat": 4,
 "nbformat_minor": 4
}
